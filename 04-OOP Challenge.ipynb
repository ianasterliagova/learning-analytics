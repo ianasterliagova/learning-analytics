{
 "cells": [
  {
   "cell_type": "markdown",
   "metadata": {},
   "source": [
    "# Объектно-ориентированное программирование - Задание\n",
    "\n",
    "В этом задании создайте класс банковского счёта, который имеет два атрибута:\n",
    "\n",
    "* owner - владелец\n",
    "* balance - баланс\n",
    "\n",
    "и два метода:\n",
    "\n",
    "* deposit - внести средства\n",
    "* withdraw - снять средства\n",
    "\n",
    "Дополнительное условие - сумма снятия не должна превышать доступный баланс.\n",
    "\n",
    "Создайте экземпляр класса, сделайте несколько внесений и снятий средств, а также проверьте, что баланс счёта не может уходить в минус при снятии средств."
   ]
  },
  {
   "cell_type": "code",
   "execution_count": 55,
   "metadata": {},
   "outputs": [],
   "source": [
    "class Account():\n",
    "    def __init__ (self,owner,balance=0):\n",
    "        self.owner = owner\n",
    "        self.balance = balance\n",
    "    \n",
    "    def __str__(self):\n",
    "        return ('Account owner is {},\\nCurrent account balance is {}'.format(self.owner,self.balance))\n",
    "    \n",
    "    def deposit (self,amount):\n",
    "        self.balance = self.balance+amount\n",
    "        return ('The deposit has been successfully completed. New balance is {}'.format(self.balance)) \n",
    "    \n",
    "    def withdraw (self,amount):\n",
    "        if self.balance>=amount:\n",
    "            self.balance = self.balance-amount\n",
    "            return ('The withdrawal has been successfully completed. New balance is {}'.format(self.balance))\n",
    "        else:\n",
    "            return ('Your account has insufficient funds. Current balance is {}'.format(self.balance))\n",
    "    "
   ]
  },
  {
   "cell_type": "code",
   "execution_count": 56,
   "metadata": {},
   "outputs": [],
   "source": [
    "# 1. Создаём экземпляр класса\n",
    "acct1 = Account('Christopher',500)"
   ]
  },
  {
   "cell_type": "code",
   "execution_count": 57,
   "metadata": {},
   "outputs": [
    {
     "name": "stdout",
     "output_type": "stream",
     "text": [
      "Account owner is Christopher,\n",
      "Current account balance is 500\n"
     ]
    }
   ],
   "source": [
    "# 2. Выводим информацию об объекте\n",
    "print(acct1)"
   ]
  },
  {
   "cell_type": "code",
   "execution_count": 58,
   "metadata": {},
   "outputs": [
    {
     "data": {
      "text/plain": [
       "'Christopher'"
      ]
     },
     "execution_count": 58,
     "metadata": {},
     "output_type": "execute_result"
    }
   ],
   "source": [
    "# 3. Отображаем атрибут владелец счёта\n",
    "acct1.owner"
   ]
  },
  {
   "cell_type": "code",
   "execution_count": 59,
   "metadata": {},
   "outputs": [
    {
     "data": {
      "text/plain": [
       "500"
      ]
     },
     "execution_count": 59,
     "metadata": {},
     "output_type": "execute_result"
    }
   ],
   "source": [
    "# 4. Отображаем атрибут баланс счёта\n",
    "acct1.balance"
   ]
  },
  {
   "cell_type": "code",
   "execution_count": 60,
   "metadata": {},
   "outputs": [
    {
     "data": {
      "text/plain": [
       "'The deposit has been successfully completed. New balance is 550'"
      ]
     },
     "execution_count": 60,
     "metadata": {},
     "output_type": "execute_result"
    }
   ],
   "source": [
    "# 5. Выполняем несколько внесений и снятий средств\n",
    "acct1.deposit(50)"
   ]
  },
  {
   "cell_type": "code",
   "execution_count": 61,
   "metadata": {},
   "outputs": [
    {
     "data": {
      "text/plain": [
       "'The withdrawal has been successfully completed. New balance is 475'"
      ]
     },
     "execution_count": 61,
     "metadata": {},
     "output_type": "execute_result"
    }
   ],
   "source": [
    "acct1.withdraw(75)"
   ]
  },
  {
   "cell_type": "code",
   "execution_count": 62,
   "metadata": {},
   "outputs": [
    {
     "data": {
      "text/plain": [
       "'Your account has insufficient funds. Current balance is 475'"
      ]
     },
     "execution_count": 62,
     "metadata": {},
     "output_type": "execute_result"
    }
   ],
   "source": [
    "# 6. Пытаемся выполнить снятие, которое превышает текущий доступный баланс\n",
    "acct1.withdraw(1000)"
   ]
  },
  {
   "cell_type": "markdown",
   "metadata": {},
   "source": [
    "## Отличная работа!"
   ]
  }
 ],
 "metadata": {
  "kernelspec": {
   "display_name": "Python 3 (ipykernel)",
   "language": "python",
   "name": "python3"
  },
  "language_info": {
   "codemirror_mode": {
    "name": "ipython",
    "version": 3
   },
   "file_extension": ".py",
   "mimetype": "text/x-python",
   "name": "python",
   "nbconvert_exporter": "python",
   "pygments_lexer": "ipython3",
   "version": "3.11.5"
  }
 },
 "nbformat": 4,
 "nbformat_minor": 2
}
